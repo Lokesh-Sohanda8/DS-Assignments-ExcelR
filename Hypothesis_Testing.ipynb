{
 "cells": [
  {
   "cell_type": "code",
   "execution_count": 1,
   "id": "0d322de2-7fcc-49b4-bb4e-5735717df048",
   "metadata": {},
   "outputs": [],
   "source": [
    "from scipy import stats\n",
    "import pandas as pd\n",
    "import scipy\n",
    "import math\n",
    "from scipy.stats import norm"
   ]
  },
  {
   "cell_type": "markdown",
   "id": "cf679e4e-72ca-4fb8-aff7-ae997e9169f5",
   "metadata": {},
   "source": [
    "# Hypothesis Testing \n",
    "\n",
    "- The Hypothesis Statements are as follows :-\n",
    "  - Null Hypothesis (H₀) = The theoretical mean weekly cost is equal to the observed sample mean.\n",
    "      - H₀(μ) = $3050\n",
    "  \n",
    "  - Alternate Hypothesis (H₁) = The observed weekly cost is higher than the theoretical mean.\n",
    "      - H₁(μ) > $3050\n",
    "\n",
    "- This is a one-tailed test."
   ]
  },
  {
   "cell_type": "markdown",
   "id": "c53cdaee-cfb2-4696-9c6c-85e694039af9",
   "metadata": {},
   "source": [
    "- Data Provided :-\n",
    "\n",
    "- x̄ (Sample mean) = $3050\n",
    "- μ (Theretical mean) = 1000 + 5 * 600 = 4000\n",
    "- σ (Standard Deviation of Weekly Cost) = 5*25 = 125\n",
    "- n (Sample Size) = 25 restaurants\n",
    "\n",
    "As the Standard Deviation is already given in the Problem Statement, T test will be used."
   ]
  },
  {
   "cell_type": "code",
   "execution_count": 4,
   "id": "d23e72bf-5031-4860-816b-59920a4d2bc0",
   "metadata": {},
   "outputs": [],
   "source": [
    "# Given Data\n",
    "\n",
    "x_bar = 3050  # Sample mean\n",
    "mu = 4000  # Theoretical mean\n",
    "sigma = 125  # Standard deviation\n",
    "n = 25  # Sample size\n",
    "alpha = 0.05  # Significance level"
   ]
  },
  {
   "cell_type": "code",
   "execution_count": 5,
   "id": "c4e6ddfc-bdd3-4794-af1d-0a9562178ed6",
   "metadata": {},
   "outputs": [],
   "source": [
    "# Calculating test statistic by manually typing the formula as the Dataset is not provided\n",
    "t_stat = (x_bar - mu) / (sigma / math.sqrt(n))"
   ]
  },
  {
   "cell_type": "code",
   "execution_count": 6,
   "id": "dc69a8bf-81cc-465b-8bae-922622ab6578",
   "metadata": {},
   "outputs": [
    {
     "data": {
      "text/plain": [
       "-38.0"
      ]
     },
     "execution_count": 6,
     "metadata": {},
     "output_type": "execute_result"
    }
   ],
   "source": [
    "t_stat"
   ]
  },
  {
   "cell_type": "code",
   "execution_count": 7,
   "id": "dac19dc0-f221-4b4b-9596-f0452d2227b1",
   "metadata": {},
   "outputs": [],
   "source": [
    "# Critical value for one-tailed test\n",
    "z_critical = 1.645  # From Z-distribution table for alpha = 0.05"
   ]
  },
  {
   "cell_type": "code",
   "execution_count": 8,
   "id": "bb2d59f3-4a40-49ee-8a1f-3315bd040b65",
   "metadata": {},
   "outputs": [
    {
     "data": {
      "text/plain": [
       "1.0"
      ]
     },
     "execution_count": 8,
     "metadata": {},
     "output_type": "execute_result"
    }
   ],
   "source": [
    "# Calculate p-value for a one-tailed test\n",
    "p_value = 1 - norm.cdf(t_stat)  # P(Z > t_stat)\n",
    "p_value"
   ]
  },
  {
   "cell_type": "code",
   "execution_count": 9,
   "id": "0457bc2e-df2f-4be3-8f64-dc2edfed6cdf",
   "metadata": {},
   "outputs": [],
   "source": [
    "# Decision based on p-value and alpha\n",
    "if p_value <= alpha:\n",
    "    decision = \"Reject the null hypothesis (H₀).\"\n",
    "else:\n",
    "    decision = \"Fail to reject the null hypothesis (H₀).\""
   ]
  },
  {
   "cell_type": "code",
   "execution_count": 10,
   "id": "6bbf3255-0cad-487c-be3c-89e4422b8c9d",
   "metadata": {},
   "outputs": [
    {
     "name": "stdout",
     "output_type": "stream",
     "text": [
      "Test Statistic (t): -38.000\n",
      "P-value: 1.00000\n",
      "Significance Level (α): 0.05\n",
      "Decision: Fail to reject the null hypothesis (H₀).\n"
     ]
    }
   ],
   "source": [
    "# Output results\n",
    "print(f\"Test Statistic (t): {t_stat:.3f}\")\n",
    "print(f\"P-value: {p_value:.5f}\")\n",
    "print(f\"Significance Level (α): {alpha}\")\n",
    "print(f\"Decision: {decision}\")"
   ]
  },
  {
   "cell_type": "markdown",
   "id": "8bf40177-60ba-46c3-b1be-ba90d10def06",
   "metadata": {},
   "source": [
    "# Decision By Analyzing Given Data \n",
    "\n",
    "- The above Analysis says that we should Fail to Reject the Null Hypothesis (H₀).\n",
    "- This means there is insufficient evidence to support the claim that the weekly operating costs are higher.\n",
    "- Here, we accept the Null Hypothesis (H₀) as we lack having concrete evidence about the weekly operating costs being higher.\n",
    "- The Mean Weekly Costs (W) is equal to $3050 (Observed Sample Mean)."
   ]
  }
 ],
 "metadata": {
  "kernelspec": {
   "display_name": "Python 3 (ipykernel)",
   "language": "python",
   "name": "python3"
  },
  "language_info": {
   "codemirror_mode": {
    "name": "ipython",
    "version": 3
   },
   "file_extension": ".py",
   "mimetype": "text/x-python",
   "name": "python",
   "nbconvert_exporter": "python",
   "pygments_lexer": "ipython3",
   "version": "3.12.4"
  }
 },
 "nbformat": 4,
 "nbformat_minor": 5
}
