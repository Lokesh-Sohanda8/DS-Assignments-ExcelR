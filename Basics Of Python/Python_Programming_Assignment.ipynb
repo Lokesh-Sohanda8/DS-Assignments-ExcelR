{
 "cells": [
  {
   "cell_type": "markdown",
   "id": "1b01cbcb-353e-41b6-b238-6b5c9695a63c",
   "metadata": {},
   "source": [
    "# PYTHON PROGRAMMING ASSIGNMENT"
   ]
  },
  {
   "cell_type": "code",
   "execution_count": 2,
   "id": "2e54d651-d9ed-4ceb-ac50-7ba3636adf6e",
   "metadata": {},
   "outputs": [],
   "source": [
    "import numpy as np\n",
    "import pandas as pd\n",
    "import warnings\n",
    "warnings.filterwarnings('ignore')"
   ]
  },
  {
   "cell_type": "markdown",
   "id": "91c11cec-91a2-47b3-a2b1-2dbbd5cc19cf",
   "metadata": {},
   "source": [
    "# Exercise 1 : Prime Numbers\n",
    "\n",
    "- Finding out whether a number is a prime number or not.\n",
    "- For the same purpose, I designed a Python Code."
   ]
  },
  {
   "cell_type": "code",
   "execution_count": 9,
   "id": "c6835e98-e898-4e83-a080-fc230f4e0c03",
   "metadata": {},
   "outputs": [
    {
     "name": "stdin",
     "output_type": "stream",
     "text": [
      "Enter a number to check if it's prime:  74\n"
     ]
    },
    {
     "name": "stdout",
     "output_type": "stream",
     "text": [
      "74 is not a prime number.\n"
     ]
    }
   ],
   "source": [
    "def is_prime(number):\n",
    "    if number <= 1:\n",
    "        return False\n",
    "    if number == 2:\n",
    "        return True\n",
    "    if number % 2 == 0:\n",
    "        return False\n",
    "\n",
    "    # Check divisors from 3 to the square root of the number\n",
    "    divisors = np.arange(3, int(np.sqrt(number)) + 1, 2)\n",
    "    return np.all(number % divisors != 0)\n",
    "\n",
    "# Input from the user\n",
    "num = int(input(\"Enter a number to check if it's prime: \"))\n",
    "\n",
    "# Output result\n",
    "if is_prime(num):\n",
    "    print(f\"{num} is a prime number.\")\n",
    "else:\n",
    "    print(f\"{num} is not a prime number.\")"
   ]
  },
  {
   "cell_type": "markdown",
   "id": "648962ad-6e2f-4f15-b0a1-02f6fa391c0b",
   "metadata": {},
   "source": [
    "# Exercise 2 : Product Of Two Random Numbers\n",
    "\n",
    "- A product of 2 numbers is Multiplying 2 numbers.\n",
    "- Generating a Python Code for the same purpose.\n",
    "- The Code will generate 2 random numbers and we have to enter the product of the 2 numbers, then it will identify it & give a Comment on it."
   ]
  },
  {
   "cell_type": "code",
   "execution_count": 15,
   "id": "be149a11-c655-4729-8977-5e4a3fb0b37f",
   "metadata": {},
   "outputs": [
    {
     "name": "stdin",
     "output_type": "stream",
     "text": [
      "What will be the Product of 2 and 4 ?  8\n"
     ]
    },
    {
     "name": "stdout",
     "output_type": "stream",
     "text": [
      "Correct ! Great Job\n"
     ]
    }
   ],
   "source": [
    "import random as rd\n",
    "\n",
    "# Generating 2 random numbers\n",
    "num1 = rd.randint(1, 10)\n",
    "num2 = rd.randint(1, 10)\n",
    "\n",
    "# Generating a Product for answer to be known by the Program\n",
    "correct_answer = num1 * num2\n",
    "\n",
    "# Taking input from the User \n",
    "user_answer = int(input(f\"What will be the Product of {num1} and {num2} ? \"))\n",
    "\n",
    "# Applying the If else condition for getting a Valid Message for the Product provided\n",
    "if user_answer == correct_answer:\n",
    "    print(\"Correct ! Great Job\")\n",
    "else :\n",
    "    print(f\"Oops, Its Incorrect, The Correct Answer is {correct_answer}.\")"
   ]
  },
  {
   "cell_type": "markdown",
   "id": "69f89ea6-ee75-4298-ab10-1e182c284042",
   "metadata": {},
   "source": [
    "# Exercise 3 : Squares of Even/Odd Numbers\n",
    "\n",
    "- Finding the squares of the numbers that can be even or odd as per the input given."
   ]
  },
  {
   "cell_type": "code",
   "execution_count": 26,
   "id": "e703de33-ed0f-4a31-90df-80b5f3e5fc1c",
   "metadata": {},
   "outputs": [
    {
     "name": "stdin",
     "output_type": "stream",
     "text": [
      "Do u want Squares of Even or Odd Numbers ? (even/odd):  Even\n"
     ]
    },
    {
     "name": "stdout",
     "output_type": "stream",
     "text": [
      "The Squares of 100 is 10000 \n",
      "The Squares of 102 is 10404 \n",
      "The Squares of 104 is 10816 \n",
      "The Squares of 106 is 11236 \n",
      "The Squares of 108 is 11664 \n",
      "The Squares of 110 is 12100 \n",
      "The Squares of 112 is 12544 \n",
      "The Squares of 114 is 12996 \n",
      "The Squares of 116 is 13456 \n",
      "The Squares of 118 is 13924 \n",
      "The Squares of 120 is 14400 \n",
      "The Squares of 122 is 14884 \n",
      "The Squares of 124 is 15376 \n",
      "The Squares of 126 is 15876 \n",
      "The Squares of 128 is 16384 \n",
      "The Squares of 130 is 16900 \n",
      "The Squares of 132 is 17424 \n",
      "The Squares of 134 is 17956 \n",
      "The Squares of 136 is 18496 \n",
      "The Squares of 138 is 19044 \n",
      "The Squares of 140 is 19600 \n",
      "The Squares of 142 is 20164 \n",
      "The Squares of 144 is 20736 \n",
      "The Squares of 146 is 21316 \n",
      "The Squares of 148 is 21904 \n",
      "The Squares of 150 is 22500 \n",
      "The Squares of 152 is 23104 \n",
      "The Squares of 154 is 23716 \n",
      "The Squares of 156 is 24336 \n",
      "The Squares of 158 is 24964 \n",
      "The Squares of 160 is 25600 \n",
      "The Squares of 162 is 26244 \n",
      "The Squares of 164 is 26896 \n",
      "The Squares of 166 is 27556 \n",
      "The Squares of 168 is 28224 \n",
      "The Squares of 170 is 28900 \n",
      "The Squares of 172 is 29584 \n",
      "The Squares of 174 is 30276 \n",
      "The Squares of 176 is 30976 \n",
      "The Squares of 178 is 31684 \n",
      "The Squares of 180 is 32400 \n",
      "The Squares of 182 is 33124 \n",
      "The Squares of 184 is 33856 \n",
      "The Squares of 186 is 34596 \n",
      "The Squares of 188 is 35344 \n",
      "The Squares of 190 is 36100 \n",
      "The Squares of 192 is 36864 \n",
      "The Squares of 194 is 37636 \n",
      "The Squares of 196 is 38416 \n",
      "The Squares of 198 is 39204 \n",
      "The Squares of 200 is 40000 \n"
     ]
    }
   ],
   "source": [
    "# Getting input from User\n",
    "your_choice = input(\"Do u want Squares of Even or Odd Numbers ? (even/odd): \").strip().lower()\n",
    "# Used lower function for avoiding error as Python is Case Sensitive\n",
    "\n",
    "# Using for loop with if else conditional statements\n",
    "for num in range(100, 201):\n",
    "    if your_choice == \"even\" and num % 2 == 0:\n",
    "        print(f\"The Squares of {num} is {num ** 2} \")\n",
    "    elif your_choice == \"odd\" and num % 2 != 0:\n",
    "        print(f\"The Squares of {num} is {num ** 2}\")"
   ]
  },
  {
   "cell_type": "markdown",
   "id": "aa37524c-c52d-44ac-81f3-a34355739054",
   "metadata": {},
   "source": [
    "# Exercise 4 : Word Count \n",
    "\n",
    "- Creating a Python Code for counting words in a Sentence/Input."
   ]
  },
  {
   "cell_type": "code",
   "execution_count": 33,
   "id": "91686af3-ced3-46e3-9210-cc6a7bb061e2",
   "metadata": {},
   "outputs": [
    {
     "name": "stdout",
     "output_type": "stream",
     "text": [
      "'I' : 3\n",
      "'am' : 1\n",
      "'Lokesh.' : 1\n",
      "'love' : 1\n",
      "'playing' : 1\n",
      "'Guitar' : 1\n",
      "'&' : 1\n",
      "'also' : 1\n",
      "'do' : 1\n",
      "'Singing.' : 1\n"
     ]
    }
   ],
   "source": [
    "from collections import Counter\n",
    "# found this library from Google as I didn't remembered the name of the Library that contains Counter Function/Method.\n",
    "\n",
    "# providing text\n",
    "input_text = \"I am Lokesh. I love playing Guitar & I also do Singing.\"\n",
    "\n",
    "# splitting each word from the Text\n",
    "words = input_text.split()\n",
    "\n",
    "# counting each word\n",
    "count_of_words = Counter(words)\n",
    "\n",
    "# printing the count of numbers using for loop\n",
    "for word, count in count_of_words.items():\n",
    "    print(f\"'{word}' : {count}\")"
   ]
  },
  {
   "cell_type": "markdown",
   "id": "08f39c36-3626-4985-afb1-e3f6fc7d7361",
   "metadata": {},
   "source": [
    "# Exercise 5 : Palindrome\n",
    "\n",
    "- A Palindrome is a word, phrase, number, or other sequence of characters that reads the same forward and backward, ignoring spaces, punctuation, and capitalization.\n",
    "- Creating a Python Code for checking if a String or Input is a Palindrome or not. "
   ]
  },
  {
   "cell_type": "code",
   "execution_count": 36,
   "id": "244dcec1-c793-4671-bd80-ede2d25abd6c",
   "metadata": {},
   "outputs": [
    {
     "name": "stdout",
     "output_type": "stream",
     "text": [
      "True\n"
     ]
    }
   ],
   "source": [
    "def isPalindrome(s):\n",
    "    return s == s[::-1]\n",
    "\n",
    "\n",
    "# Driver Code\n",
    "s = \"malayalam\"\n",
    "ans = isPalindrome(s)\n",
    "\n",
    "if ans:\n",
    "    print(\"True\")\n",
    "else :\n",
    "    print(\"False\")"
   ]
  },
  {
   "cell_type": "code",
   "execution_count": 52,
   "id": "a76b259c-b9d0-49fd-8edc-d6303630ea33",
   "metadata": {},
   "outputs": [
    {
     "name": "stdin",
     "output_type": "stream",
     "text": [
      "Enter a Palindrome Mom\n"
     ]
    },
    {
     "name": "stdout",
     "output_type": "stream",
     "text": [
      "True\n"
     ]
    }
   ],
   "source": [
    "# Code for Taking input for a Palindrome\n",
    "def isPalindrome(s):\n",
    "    return s == s[::-1]\n",
    "\n",
    "\n",
    "# Driver Code\n",
    "s = input(\"Enter a Palindrome\").strip().lower()\n",
    "ans = isPalindrome(s)\n",
    "\n",
    "# checking if the word is a Palindrome or not\n",
    "if ans:\n",
    "    print(\"True\")\n",
    "else :\n",
    "    print(\"False\")"
   ]
  },
  {
   "cell_type": "code",
   "execution_count": null,
   "id": "60045e1d-271d-4804-ac45-24917a84f012",
   "metadata": {},
   "outputs": [],
   "source": []
  }
 ],
 "metadata": {
  "kernelspec": {
   "display_name": "Python 3 (ipykernel)",
   "language": "python",
   "name": "python3"
  },
  "language_info": {
   "codemirror_mode": {
    "name": "ipython",
    "version": 3
   },
   "file_extension": ".py",
   "mimetype": "text/x-python",
   "name": "python",
   "nbconvert_exporter": "python",
   "pygments_lexer": "ipython3",
   "version": "3.12.4"
  }
 },
 "nbformat": 4,
 "nbformat_minor": 5
}
